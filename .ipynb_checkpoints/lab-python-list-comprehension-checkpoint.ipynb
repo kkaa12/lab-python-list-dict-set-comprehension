{
 "cells": [
  {
   "cell_type": "markdown",
   "id": "25d7736c-ba17-4aff-b6bb-66eba20fbf4e",
   "metadata": {},
   "source": [
    "# Lab | List, Dict and Set Comprehension"
   ]
  },
  {
   "cell_type": "markdown",
   "id": "7dd3cbde-675a-4b81-92c3-f728846dbe06",
   "metadata": {},
   "source": [
    "## Exercise: Managing Customer Orders Optimized with Comprehension"
   ]
  },
  {
   "cell_type": "markdown",
   "id": "5d500160-2fb7-4777-b5e4-09d45ebaf328",
   "metadata": {},
   "source": [
    "In the previous exercise, you developed a program to manage customer orders and inventory. Now, let's take it a step further and incorporate comprehension into your code.\n",
    "\n",
    "Follow the steps below to complete the exercise:\n",
    "\n",
    "1. Review your code from the previous exercise and identify areas where you can apply comprehension to simplify and streamline your code. \n",
    "\n",
    "    - *Hint: Apply it to initialize inventory, updating the inventory and printing the updated inventory.*\n",
    "    \n",
    "    - For example, in initializing the inventory, we could have:\n",
    "    \n",
    "        ```python\n",
    "        def initialize_inventory(products):\n",
    "            inventory = {product: int(input(f\"Enter the quantity of {product}s available: \")) for product in products}\n",
    "            return inventory\n",
    "\n",
    "        ```\n",
    "<br>\n",
    "    \n",
    "    \n",
    "2. Modify the function get_customer_orders so it prompts the user to enter the number of customer orders and gathers the product names using a loop and user input. Use comprehension.\n",
    "\n",
    "3. Add a new function to calculate the total price of the customer order. For each product in customer_orders, prompt the user to enter the price of that product. Use comprehension to calculate the total price. Note: assume that the user can only have 1 unit of each product.\n",
    "\n",
    "4. Modify the update_inventory function to remove the product from the inventory if its quantity becomes zero after fulfilling the customer orders. Use comprehension to filter out the products with a quantity of zero from the inventory.\n",
    "\n",
    "5. Print the total price of the customer order.\n",
    "\n",
    "Your code should produce output similar to the following:\n",
    "\n",
    "```python\n",
    "Enter the quantity of t-shirts available:  5\n",
    "Enter the quantity of mugs available:  4\n",
    "Enter the quantity of hats available:  3\n",
    "Enter the quantity of books available:  2\n",
    "Enter the quantity of keychains available:  1\n",
    "Enter the number of customer orders:  2\n",
    "Enter the name of a product that a customer wants to order:  hat\n",
    "Enter the name of a product that a customer wants to order:  keychain\n",
    "\n",
    "Order Statistics:\n",
    "Total Products Ordered: 2\n",
    "Percentage of Unique Products Ordered: 40.0\n",
    "\n",
    "Updated Inventory:\n",
    "t-shirt: 5\n",
    "mug: 4\n",
    "hat: 2\n",
    "book: 2\n",
    "Enter the price of keychain:  5\n",
    "Enter the price of hat:  10\n",
    "Total Price: 15.0\n",
    "\n",
    "```\n"
   ]
  },
  {
   "cell_type": "code",
   "execution_count": 156,
   "id": "86d4e341",
   "metadata": {},
   "outputs": [
    {
     "name": "stdout",
     "output_type": "stream",
     "text": [
      "Enter the quantity of 't-shirt': 5\n",
      "Enter the quantity of 'mug': 4\n",
      "Enter the quantity of 'hat': 3\n",
      "Enter the quantity of 'book': 2\n",
      "Enter the quantity of 'keychain': 1\n",
      "{'t-shirt': 5, 'mug': 4, 'hat': 3, 'book': 2, 'keychain': 1}\n"
     ]
    }
   ],
   "source": [
    "products = [\"t-shirt\", \"mug\", \"hat\", \"book\", \"keychain\"]\n",
    "\n",
    "def initialize_inventory(products):\n",
    "    inventory = {product: int(input(f\"Enter the quantity of '{product}': \")) for product in products}\n",
    "    return inventory\n",
    "\n",
    "inventory = initialize_inventory(products)\n",
    "print(inventory)"
   ]
  },
  {
   "cell_type": "code",
   "execution_count": 157,
   "id": "2ffb34f9",
   "metadata": {},
   "outputs": [
    {
     "name": "stdout",
     "output_type": "stream",
     "text": [
      "Enter number of customer orders: 2\n",
      "Choose which one of ['t-shirt', 'mug', 'hat', 'book', 'keychain'] product customer wants to order: hat\n",
      "Choose which one of ['t-shirt', 'mug', 'hat', 'book', 'keychain'] product customer wants to order: keychain\n",
      "{'hat', 'keychain'}\n"
     ]
    }
   ],
   "source": [
    "def get_customer_orders():\n",
    "    \n",
    "    number_orders = int(input(\"Enter number of customer orders: \"))\n",
    "    \n",
    "    product_names = {input(f\"Choose which one of {products} product customer wants to order: \").lower().strip() for product in range(number_orders)}\n",
    "    \n",
    "    return product_names\n",
    "\n",
    "customer_orders = get_customer_orders()\n",
    "print(customer_orders)"
   ]
  },
  {
   "cell_type": "code",
   "execution_count": 158,
   "id": "f4482055",
   "metadata": {},
   "outputs": [],
   "source": [
    "def print_order_statistics():\n",
    "    print(\"Order Statistics:\")"
   ]
  },
  {
   "cell_type": "code",
   "execution_count": 159,
   "id": "84a7b703",
   "metadata": {},
   "outputs": [],
   "source": [
    "def calculate_order_statistics(customer_orders, products):\n",
    "    total_products_ordered = len(customer_orders)\n",
    "    percentage_ordered = (total_products_ordered / len(products)) * 100\n",
    "\n",
    "    print(f\"Total Products Ordered: {total_products_ordered}\")\n",
    "    print(f\"Percentage of Products Ordered: {percentage_ordered:.2f}%\")"
   ]
  },
  {
   "cell_type": "code",
   "execution_count": 171,
   "id": "fb2e049d",
   "metadata": {
    "scrolled": true
   },
   "outputs": [
    {
     "name": "stdout",
     "output_type": "stream",
     "text": [
      "Enter price of mug: 2\n",
      "Enter price of book: 4\n",
      "Total price is of the order is:  6.0\n"
     ]
    }
   ],
   "source": [
    "def get_total_price():\n",
    "    \n",
    "    price_product = {element: float(input(f\"Enter price of {element}: \")) for element in ordered_products}\n",
    "    total_price = sum(price_product.values())\n",
    "    print(\"Total price is of the order is: \", total_price)\n",
    "\n",
    "total_price = get_total_price()\n",
    "\n",
    "    "
   ]
  },
  {
   "cell_type": "code",
   "execution_count": 169,
   "id": "374b81c3",
   "metadata": {},
   "outputs": [
    {
     "data": {
      "text/plain": [
       "{'t-shirt': 5, 'mug': 4, 'hat': 2, 'book': 2}"
      ]
     },
     "execution_count": 169,
     "metadata": {},
     "output_type": "execute_result"
    }
   ],
   "source": [
    "def update_inventory(inventory):\n",
    "    \n",
    "    ordered_from_inventory = {key: inventory[key]-1 if key in customer_orders else inventory[key] for key in inventory}\n",
    "    \n",
    "    inventory = {key: value for key, value in ordered_from_inventory.items() if value != 0}\n",
    "    return inventory\n",
    "            \n",
    "update_inventory(inventory)\n"
   ]
  },
  {
   "cell_type": "code",
   "execution_count": 172,
   "id": "0f42a439",
   "metadata": {},
   "outputs": [
    {
     "name": "stdout",
     "output_type": "stream",
     "text": [
      "Enter the quantity of 't-shirt': 5\n",
      "Enter the quantity of 'mug': 4\n",
      "Enter the quantity of 'hat': 3\n",
      "Enter the quantity of 'book': 2\n",
      "Enter the quantity of 'keychain': 1\n",
      "Enter number of customer orders: 2\n",
      "Choose which one of ['t-shirt', 'mug', 'hat', 'book', 'keychain'] product customer wants to order: BOOKG\n",
      "Choose which one of ['t-shirt', 'mug', 'hat', 'book', 'keychain'] product customer wants to order: MUG\n",
      "Order Statistics:\n",
      "Total Products Ordered: 2\n",
      "Percentage of Products Ordered: 40.00%\n",
      "Enter price of mug: 3.59\n",
      "Enter price of book: 8.39\n",
      "Total price is of the order is:  11.98\n"
     ]
    },
    {
     "data": {
      "text/plain": [
       "{'t-shirt': 5, 'mug': 4, 'hat': 2, 'book': 2}"
      ]
     },
     "execution_count": 172,
     "metadata": {},
     "output_type": "execute_result"
    }
   ],
   "source": [
    "initialize_inventory(products)\n",
    "get_customer_orders()\n",
    "print_order_statistics()\n",
    "calculate_order_statistics(customer_orders, products)\n",
    "get_total_price()\n",
    "update_inventory(inventory)"
   ]
  }
 ],
 "metadata": {
  "kernelspec": {
   "display_name": "Python 3 (ipykernel)",
   "language": "python",
   "name": "python3"
  },
  "language_info": {
   "codemirror_mode": {
    "name": "ipython",
    "version": 3
   },
   "file_extension": ".py",
   "mimetype": "text/x-python",
   "name": "python",
   "nbconvert_exporter": "python",
   "pygments_lexer": "ipython3",
   "version": "3.11.5"
  }
 },
 "nbformat": 4,
 "nbformat_minor": 5
}
